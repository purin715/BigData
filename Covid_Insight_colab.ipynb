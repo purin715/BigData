{
 "cells": [
  {
   "cell_type": "markdown",
   "metadata": {},
   "source": [
    "## 코로나 : 시각화를 통한 인사이트 도출"
   ]
  },
  {
   "cell_type": "markdown",
   "metadata": {},
   "source": [
    "**참고 팀**: https://visualisingkorea.com/"
   ]
  },
  {
   "cell_type": "markdown",
   "metadata": {},
   "source": [
    "### 1. 준비."
   ]
  },
  {
   "cell_type": "code",
   "execution_count": null,
   "metadata": {},
   "outputs": [],
   "source": [
    "# 필요한 라이브러리를 가져온다.\n",
    "import pandas as pd\n",
    "import numpy as np\n",
    "import seaborn as sns\n",
    "import matplotlib.pyplot as plt\n",
    "\n",
    "from sklearn.preprocessing import StandardScaler    # 표준화.\n",
    "from sklearn.cluster import KMeans                  # 군집화.\n",
    "from sklearn.decomposition import PCA               # 주성분."
   ]
  },
  {
   "cell_type": "code",
   "execution_count": null,
   "metadata": {},
   "outputs": [],
   "source": [
    "# 구글 드라이브 마운트.\n",
    "from google.colab import drive\n",
    "drive.mount('/content/drive')  # 절차를 따라서 한다."
   ]
  },
  {
   "cell_type": "code",
   "execution_count": null,
   "metadata": {},
   "outputs": [],
   "source": [
    "# 경로 이동.\n",
    "%cd \"/content/drive/MyDrive/GwangjuAI/notebook\""
   ]
  },
  {
   "cell_type": "code",
   "execution_count": null,
   "metadata": {},
   "outputs": [],
   "source": [
    "# Pandas 데이터 프레임에서 float을 소수점 4자리 까지 출력해 준다.\n",
    "pd.set_option(\"precision\",4)"
   ]
  },
  {
   "cell_type": "code",
   "execution_count": null,
   "metadata": {},
   "outputs": [],
   "source": [
    "# 성가신 경고를 꺼준다.\n",
    "import warnings  \n",
    "warnings.filterwarnings('ignore')"
   ]
  },
  {
   "cell_type": "code",
   "execution_count": null,
   "metadata": {},
   "outputs": [],
   "source": [
    "# 환자정보 데이터를 불러온다.\n",
    "df1 = pd.read_csv('../data/PatientInfo.csv')"
   ]
  },
  {
   "cell_type": "code",
   "execution_count": null,
   "metadata": {},
   "outputs": [],
   "source": [
    "df1.head()"
   ]
  },
  {
   "cell_type": "code",
   "execution_count": null,
   "metadata": {},
   "outputs": [],
   "source": [
    "# 컬럼의 자료형을 살펴본다.\n",
    "df1.info()"
   ]
  },
  {
   "cell_type": "markdown",
   "metadata": {},
   "source": [
    "### 2. 기초적인 탐색."
   ]
  },
  {
   "cell_type": "code",
   "execution_count": null,
   "metadata": {},
   "outputs": [],
   "source": [
    "# 결측치의 총 카운트.\n",
    "df1.isnull().sum().sum()"
   ]
  },
  {
   "cell_type": "code",
   "execution_count": null,
   "metadata": {},
   "outputs": [],
   "source": [
    "# 결측치를 시각화 해본다.\n",
    "plt.figure(figsize = (15,10))                                       # figsize=(가로, 세로) 크기.\n",
    "sns.heatmap(df1.isnull(), cmap='Blues', cbar=False)\n",
    "plt.show()"
   ]
  },
  {
   "cell_type": "code",
   "execution_count": null,
   "metadata": {},
   "outputs": [],
   "source": [
    "# 중복된 환자 ID는 없어 보인다.\n",
    "print(\"데이터 행의 수 = {}\".format(df1.shape[0]))                  # 데이터 행의 수 = 4004\n",
    "print(\"고유한 환자 ID 수 = {}\".format(df1.patient_id.nunique()))   # 고유한 환자 ID 수 = 4004"
   ]
  },
  {
   "cell_type": "code",
   "execution_count": null,
   "metadata": {},
   "outputs": [],
   "source": [
    "# 명목형 변수인 Sex를 시각화 해본다.\n",
    "sex_counts = df1.sex.value_counts()              \n",
    "sex_counts = sex_counts.sort_values(ascending=False)\n",
    "sex_counts.plot.bar(color='turquoise', alpha=0.7)\n",
    "plt.show()"
   ]
  },
  {
   "cell_type": "code",
   "execution_count": null,
   "metadata": {},
   "outputs": [],
   "source": [
    "# Age 변수의 유형 출력.\n",
    "df1.age.unique()"
   ]
  },
  {
   "cell_type": "code",
   "execution_count": null,
   "metadata": {},
   "outputs": [],
   "source": [
    "# 명목형 변수인 Age를 시각화 해본다.\n",
    "df1.age = df1.age.str.replace('s','',regex=True)                      # 's' 제거.\n",
    "age_counts = df1.age.value_counts()                                   # 도수표.\n",
    "age_counts = age_counts.sort_values(ascending=False)\n",
    "age_counts.plot.bar(color='green', alpha=0.5)\n",
    "plt.show()"
   ]
  },
  {
   "cell_type": "code",
   "execution_count": null,
   "metadata": {},
   "outputs": [],
   "source": [
    "# 명목형 변수인 Country를 가지고 국적별로 시각화 해본다.\n",
    "country_counts = df1.country.value_counts()                 \n",
    "country_counts = country_counts.sort_values(ascending=False)\n",
    "country_counts.plot.bar(color='pink', alpha = 0.7)\n",
    "plt.show()"
   ]
  },
  {
   "cell_type": "code",
   "execution_count": null,
   "metadata": {},
   "outputs": [],
   "source": [
    "# 명목형 변수인 Country를 가지고 내국인 여부를 시각화 해본다.\n",
    "country_counts = (df1.country == \"Korea\").value_counts()\n",
    "country_counts = country_counts.sort_values(ascending=False)\n",
    "country_counts.index = [\"Korean\", \"Foreigner\"]\n",
    "country_counts.plot.bar(color= \"pink\",alpha=0.7)\n",
    "plt.show()"
   ]
  },
  {
   "cell_type": "code",
   "execution_count": null,
   "metadata": {},
   "outputs": [],
   "source": [
    "# 기저질환 (disease)는 결측치 아닌 정상값의 수가 절대적으로 부족해서 분석하기 어려움.\n",
    "df1.disease.count()"
   ]
  },
  {
   "cell_type": "code",
   "execution_count": null,
   "metadata": {},
   "outputs": [],
   "source": [
    "# 명목형 변수인 State를 시각화 해본다.\n",
    "state_counts = df1.state.value_counts()              \n",
    "state_counts = state_counts.sort_values(ascending=False)\n",
    "state_counts.plot.bar(color='blue', alpha=0.5)\n",
    "plt.show()"
   ]
  },
  {
   "cell_type": "code",
   "execution_count": null,
   "metadata": {},
   "outputs": [],
   "source": [
    "# 명목형 변수인 Age와 Sex를 조합하여 시각화 해본다.\n",
    "ct = pd.crosstab(df1.age, df1.sex)\n",
    "ct['total'] = ct.male + ct.female                      # total 컬럼.\n",
    "ct.sort_values(by=['total'], ascending=False)[['male','female']].plot.bar(color=[\"blue\",\"red\"],stacked=True)   # total로 소팅. total은 시각화에서는 제외!\n",
    "plt.show()"
   ]
  },
  {
   "cell_type": "code",
   "execution_count": null,
   "metadata": {},
   "outputs": [],
   "source": [
    "# Age별 사망비율.\n",
    "ct = pd.crosstab(df1.age, df1.state=='deceased')\n",
    "ct.columns = ['alive','deceased']\n",
    "ct['mortality'] = ct.deceased/(ct.alive + ct.deceased)\n",
    "ct.sort_values(by=['mortality'], ascending=False)[['mortality']].plot.bar(color='red', alpha=0.5)   # mortality로 소팅 및 시각화.\n",
    "plt.show()"
   ]
  },
  {
   "cell_type": "code",
   "execution_count": null,
   "metadata": {},
   "outputs": [],
   "source": [
    "# Sex별 사망비율.\n",
    "ct = pd.crosstab(df1.sex, df1.state=='deceased')\n",
    "ct.columns = ['alive','deceased']\n",
    "ct['mortality'] = ct.deceased/(ct.alive + ct.deceased)\n",
    "ct.sort_values(by=['mortality'], ascending=False)[['mortality']].plot.bar(color='green', alpha=0.5)   # mortality로 소팅 및 시각화.\n",
    "plt.show()"
   ]
  },
  {
   "cell_type": "markdown",
   "metadata": {},
   "source": [
    "### 3. 감염 경로 유형 (Infection Case)"
   ]
  },
  {
   "cell_type": "code",
   "execution_count": null,
   "metadata": {},
   "outputs": [],
   "source": [
    "# 감염 경로의 유형 출력.\n",
    "print(df1.infection_case.unique())"
   ]
  },
  {
   "cell_type": "code",
   "execution_count": null,
   "metadata": {},
   "outputs": [],
   "source": [
    "# 감염 경로의 가지수 출력.\n",
    "print(df1.infection_case.nunique())"
   ]
  },
  {
   "cell_type": "code",
   "execution_count": null,
   "metadata": {},
   "outputs": [],
   "source": [
    "# 감염 경로별 환자수 집계하여 시각화 한다.\n",
    "res = df1.groupby(['infection_case'])['patient_id'].count()        # 결측치가 아닌 patient_id의 수 = 환자의 수.\n",
    "res = res.reset_index()                                           # Series => DataFrame. 이전의 Index가 이제는 새로운 컬럼!\n",
    "res.rename(columns = {'infection_case':'infection case', 'patient_id': 'count'}, inplace = True)     # 'patient_id' 컬럼명을 'count'로 변경.\n",
    "res = res.sort_values(by = 'count', ascending = False)            # 데이터 프레임 내림 차순으로 소팅.\n",
    "\n",
    "plt.figure(figsize = (12,6))                                       # figsize=(가로, 세로) 크기.\n",
    "sns.barplot(y = 'infection case', x= 'count', data = res)\n",
    "plt.title('Number of Patients per Infection Case')\n",
    "plt.show()"
   ]
  },
  {
   "cell_type": "code",
   "execution_count": null,
   "metadata": {},
   "outputs": [],
   "source": [
    "# 헬퍼 함수 정의.\n",
    "def my_conversion_func(x):\n",
    "    if not pd.isnull(x):\n",
    "        if x in my_dict.keys():\n",
    "            return my_dict[x]\n",
    "        else:\n",
    "            return \"Group\"\n",
    "    else:\n",
    "        return \"Unknown\""
   ]
  },
  {
   "cell_type": "code",
   "execution_count": null,
   "metadata": {},
   "outputs": [],
   "source": [
    "# 다음과 같이 유형의 label을 바꾸어서 다시 집계 및 시각화 해본다.\n",
    "# 'contact with patient' => 'Individual'     개인접촉\n",
    "# 'etc'  or NaN         => 'Unknown'         모름\n",
    "# 'overseas inflow'     => 'Overseas'        해외\n",
    "#  나머지               => 'Group'            집단\n",
    "\n",
    "my_dict = {'contact with patient':'Individual', 'etc':'Unknown', 'overseas inflow': 'Overseas'}\n",
    "res = df1.infection_case.apply(lambda x: my_dict[x] if x in my_dict.keys() else 'Group' if not pd.isnull(x) else 'Unknown')  # 변환! Pythonic!\n",
    "#res = df1.infection_case.apply(my_conversion_func)    # 또다른 방법.\n",
    "df1['infection_cause'] = res  # 변환을 df1에도 적용.\n",
    "\n",
    "# 다시 집계하여 시각화 해본다.\n",
    "res = res.value_counts().sort_values(ascending=False)\n",
    "res = res.reset_index()                                                               # Series => DataFrame. 이전의 Index가 이제는 새로운 컬럼!\n",
    "res.rename(columns={'index':'infection_cause','infection_case':'count'},inplace=True)\n",
    "\n",
    "plt.figure(figsize = (12,6))                                       # figsize=(가로, 세로) 크기.\n",
    "sns.barplot(y = 'infection_cause', x= 'count', data = res, alpha=0.8)\n",
    "plt.title('Number of Patients per Infection Cause')\n",
    "plt.show()"
   ]
  },
  {
   "cell_type": "markdown",
   "metadata": {},
   "source": [
    "**결론**: 유입 경로를 4가지로 요약해 봄."
   ]
  },
  {
   "cell_type": "markdown",
   "metadata": {},
   "source": [
    "### 4. 유동성 (Mobility Level)"
   ]
  },
  {
   "cell_type": "code",
   "execution_count": null,
   "metadata": {},
   "outputs": [],
   "source": [
    "# 새롭게 동선 데이터를 불러온다.\n",
    "df2 = pd.read_csv('../data/PatientRoute.csv')"
   ]
  },
  {
   "cell_type": "code",
   "execution_count": null,
   "metadata": {},
   "outputs": [],
   "source": [
    "df2.head()"
   ]
  },
  {
   "cell_type": "code",
   "execution_count": null,
   "metadata": {},
   "outputs": [],
   "source": [
    "# 결측치의 총 카운트.\n",
    "df2.isnull().sum().sum()"
   ]
  },
  {
   "cell_type": "code",
   "execution_count": null,
   "metadata": {},
   "outputs": [],
   "source": [
    "# 결측치를 시각화 해본다.\n",
    "plt.figure(figsize = (10,10))                                       # figsize=(가로, 세로) 크기.\n",
    "sns.heatmap(df2.isnull(), cmap='Blues', cbar=False)\n",
    "plt.show()"
   ]
  },
  {
   "cell_type": "code",
   "execution_count": null,
   "metadata": {},
   "outputs": [],
   "source": [
    "# 중복된 환자 ID가 많아 보인다.\n",
    "print(\"데이터 행의 수 = {}\".format(df2.shape[0]))\n",
    "print(\"고유한 환자 ID 수 = {}\".format(df2.patient_id.nunique()))"
   ]
  },
  {
   "cell_type": "code",
   "execution_count": null,
   "metadata": {},
   "outputs": [],
   "source": [
    "# 이동 경로의 유형 출력.\n",
    "print(df2.type.unique())"
   ]
  },
  {
   "cell_type": "code",
   "execution_count": null,
   "metadata": {},
   "outputs": [],
   "source": [
    "# 이동 경로의 가지수 출력.\n",
    "print(df2.type.nunique())"
   ]
  },
  {
   "cell_type": "code",
   "execution_count": null,
   "metadata": {},
   "outputs": [],
   "source": [
    "# 이동 경로의 유형을 카테고리로 표현해 본다.\n",
    "leisure = ['library', 'theater', 'cafe', 'bakery', 'beauty_salon',\n",
    "          'pc_cafe', 'billiards','restaurant', 'bar', 'karaoke']\n",
    "travel = ['airport', 'lodging']\n",
    "essential_edu = ['primary_school', 'school', 'university']\n",
    "non_essential_edu = ['academy']\n",
    "exercise = ['gym', 'mountain', 'park']\n",
    "essential_admin = ['administrative_area_level_1', 'governmnet_office', 'post_office']\n",
    "non_essential_admin = ['police_office', 'bank', 'real_estate_agency']\n",
    "necessity = ['store', 'public_transportation', 'gas_station']\n",
    "medical = ['hospital', 'pharmacy']\n",
    "church = ['church']\n",
    "etc = ['etc']"
   ]
  },
  {
   "cell_type": "code",
   "execution_count": null,
   "metadata": {},
   "outputs": [],
   "source": [
    "# \"필수적\" 카테고리는 다음과 같이 정의한다.\n",
    "essential = essential_edu + essential_admin + necessity + medical \n",
    "len(essential)"
   ]
  },
  {
   "cell_type": "code",
   "execution_count": null,
   "metadata": {},
   "outputs": [],
   "source": [
    "# 필수/부수적 여부 변수 'is_essential' 파생변수로 추가.\n",
    "def isessential(x):     \n",
    "    if x in essential: \n",
    "        res = True\n",
    "    else:\n",
    "        res = False \n",
    "    return res\n",
    "\n",
    "df2['is_essential'] = df2['type'].apply( isessential ) \n",
    "\n",
    "# 데이터 프레임 간추리기.\n",
    "df2 = df2[['patient_id', 'is_essential']]\n",
    "df2.head()"
   ]
  },
  {
   "cell_type": "code",
   "execution_count": null,
   "metadata": {},
   "outputs": [],
   "source": [
    "# 동일 환자의 경로 유형을 집계한다 (sum).\n",
    "# 결측치는 0으로 채운다.\n",
    "df2['route_value'] = 1       # 1 로 채워진 컬럼을 추가해서 집계의 목적으로 사용한다.\n",
    "df3 = pd.pivot_table(data=df2, index = 'patient_id', columns = 'is_essential', values= 'route_value', aggfunc='sum', fill_value=0)\n",
    "df3.head()"
   ]
  },
  {
   "cell_type": "code",
   "execution_count": null,
   "metadata": {},
   "outputs": [],
   "source": [
    "# Index로 있는 patient_id를 컬럼으로 빼내고 정리한다.\n",
    "df3.columns.name=None\n",
    "df3 = df3.reset_index()\n",
    "df3 = df3.rename(columns={False:'non_essential',True:'essential'})\n",
    "df3.head()"
   ]
  },
  {
   "cell_type": "code",
   "execution_count": null,
   "metadata": {},
   "outputs": [],
   "source": [
    "# df1 (PatientInfo)와 df3 (PatientRoute 요약)을 Inner Join 해서 가로 방향으로 붙여서 df_joined를 만든다.\n",
    "#df_joined = df1.merge(df3, left_on = 'patient_id', right_on = 'patient_id' , how='inner')\n",
    "df_joined = pd.merge(df1, df3, on = \"patient_id\", how=\"inner\")"
   ]
  },
  {
   "cell_type": "code",
   "execution_count": null,
   "metadata": {},
   "outputs": [],
   "source": [
    "# 살펴본다.\n",
    "df_joined.head()"
   ]
  },
  {
   "cell_type": "code",
   "execution_count": null,
   "metadata": {},
   "outputs": [],
   "source": [
    "# 모든 환자에 대해서 동선이 명확한 것이 아니기 때문에 Join 후 대폭 행의 수가 줄어 들었다.\n",
    "print(\"Number of Rows Before = {}\".format(len(df1)))\n",
    "print(\"Number of Rows After = {}\".format(len(df_joined)))"
   ]
  },
  {
   "cell_type": "markdown",
   "metadata": {},
   "source": [
    "### 5. 접촉 빈도 (Number of Contacts)"
   ]
  },
  {
   "cell_type": "code",
   "execution_count": null,
   "metadata": {},
   "outputs": [],
   "source": [
    "# contact_number가 결측치가 아니고 '-'가 아닌 행들만 가져온다. '-'는 오류로 유입된 값인듯.\n",
    "res = df_joined.contact_number\n",
    "df_joined = df_joined[~res.isnull() & (res != '-')]"
   ]
  },
  {
   "cell_type": "code",
   "execution_count": null,
   "metadata": {},
   "outputs": [],
   "source": [
    "# contact_number의 자료형을 integer로 변경하고 이상값은 제거한다.\n",
    "df_joined['contact_number'] = df_joined.contact_number.astype(int)\n",
    "df_joined = df_joined[df_joined.contact_number < 10000]"
   ]
  },
  {
   "cell_type": "code",
   "execution_count": null,
   "metadata": {},
   "outputs": [],
   "source": [
    "# 최대 첩촉빈도.\n",
    "df_joined.contact_number.max()"
   ]
  },
  {
   "cell_type": "code",
   "execution_count": null,
   "metadata": {},
   "outputs": [],
   "source": [
    "# 최대 첩촉빈도에 해당하는 환자.\n",
    "df_joined[df_joined.contact_number == df_joined.contact_number.max()]"
   ]
  },
  {
   "cell_type": "code",
   "execution_count": null,
   "metadata": {},
   "outputs": [],
   "source": [
    "# 접촉 빈도를 히스토그램으로 시각화 한다.\n",
    "sns.histplot(df_joined.contact_number,bins=50)\n",
    "plt.show()"
   ]
  },
  {
   "cell_type": "code",
   "execution_count": null,
   "metadata": {},
   "outputs": [],
   "source": [
    "# 필요한 컬럼만 가져와서 정리한다.\n",
    "df4 = df_joined[['patient_id', 'contact_number', 'essential','non_essential','infection_cause']]\n",
    "df4.head()"
   ]
  },
  {
   "cell_type": "markdown",
   "metadata": {},
   "source": [
    "### 6. 군집화 (Clustering)"
   ]
  },
  {
   "cell_type": "code",
   "execution_count": null,
   "metadata": {},
   "outputs": [],
   "source": [
    "# Infection_cause를 가변수 처리한다.\n",
    "df4 = df4.join(pd.get_dummies(df4.infection_cause, prefix='infection',drop_first=False))"
   ]
  },
  {
   "cell_type": "code",
   "execution_count": null,
   "metadata": {
    "scrolled": true
   },
   "outputs": [],
   "source": [
    "df4.head()"
   ]
  },
  {
   "cell_type": "code",
   "execution_count": null,
   "metadata": {},
   "outputs": [],
   "source": [
    "df_final = df4[ ['essential', 'non_essential', 'contact_number',\n",
    "          'infection_Group', 'infection_Individual', 'infection_Overseas', 'infection_Unknown']]"
   ]
  },
  {
   "cell_type": "code",
   "execution_count": null,
   "metadata": {},
   "outputs": [],
   "source": [
    "df_final.head()"
   ]
  },
  {
   "cell_type": "code",
   "execution_count": null,
   "metadata": {},
   "outputs": [],
   "source": [
    "# 컬럼의 표준화를 실행한다.\n",
    "X = df_final.values                        \n",
    "my_scaler = StandardScaler()\n",
    "X = my_scaler.fit_transform(X)\n",
    "#pd.DataFrame(data=X, columns=df_final.columns).head()   # 표준화 확인."
   ]
  },
  {
   "cell_type": "code",
   "execution_count": null,
   "metadata": {},
   "outputs": [],
   "source": [
    "# 군집의 수 = 4로 정하고 군집화를 실행한다.  <= 군집의 수 최적화가 선행되어야 한다! (부록 참고)\n",
    "my_km = KMeans(n_clusters = 4, random_state = 123)\n",
    "my_km.fit(X)\n",
    "\n",
    "my_centroids = my_km.cluster_centers_               # 개개 군집의 중심점.\n",
    "my_cluster_labels = my_km.labels_                   # 군집 label."
   ]
  },
  {
   "cell_type": "code",
   "execution_count": null,
   "metadata": {},
   "outputs": [],
   "source": [
    "# 클러스터 중심을 출력하고 해석한다.\n",
    "pd.DataFrame(data=my_centroids, columns = df_final.columns)"
   ]
  },
  {
   "cell_type": "markdown",
   "metadata": {},
   "source": [
    "**해석:** <br>\n",
    "- Label 0 (red)    : Moderate unknowns.\n",
    "- Label 1 (blue)   : Social minimalist.\n",
    "- Label 2 (green)  : Overseas. \n",
    "- Label 3 (yellow) : Hyper-mobile and hyper-social."
   ]
  },
  {
   "cell_type": "code",
   "execution_count": null,
   "metadata": {},
   "outputs": [],
   "source": [
    "# 주성분 분석 (PCA)를 활용한 차원축소 (2차원).\n",
    "my_pca = PCA(n_components = 2)   \n",
    "transformed_comps = my_pca.fit_transform(X)         # Transformed 된 좌표.\n",
    "df_transformed_comps = pd.DataFrame(data = transformed_comps, columns = ['PC1', 'PC2'])  # PC = Principal Component = 주성분.\n",
    "#df_transformed_comps.head(10)\n",
    "df_transformed_comps=df_transformed_comps.join(pd.Series(my_cluster_labels, name='cluster_label'))\n",
    "df_transformed_comps.head(10)"
   ]
  },
  {
   "cell_type": "code",
   "execution_count": null,
   "metadata": {},
   "outputs": [],
   "source": [
    "# 산점도 시각화.\n",
    "my_colors = {0:'red',1:'blue',2:'green',3:'yellow'}    # 군집 label => Color.\n",
    "my_names = {0: 'Moderate unknwons.', 1: 'Social minimalists.', 2: 'Overseas.', 3: 'Hyper-mobile and hyper-social.'} # 군집 label => 명칭.\n",
    "\n",
    "plt.figure(figsize = (6,6))\n",
    "for a_cluster_n, df_small in df_transformed_comps.groupby('cluster_label'):\n",
    "#    plt.scatter('PC1', 'PC2', data = df_small, c = my_colors[a_cluster_n], label = my_names[a_cluster_n], s = 10, alpha=0.6 )\n",
    "    plt.scatter(df_small['PC1'], df_small['PC2'], c = my_colors[a_cluster_n], label = my_names[a_cluster_n], s=10, alpha=0.6, marker=\"s\" )\n",
    "\n",
    "plt.xlabel('PC1')\n",
    "plt.ylabel('PC2')\n",
    "plt.title('Clusters')\n",
    "plt.legend(loc=\"lower right\")\n",
    "plt.show()"
   ]
  },
  {
   "cell_type": "markdown",
   "metadata": {},
   "source": [
    "### 부록: 군집의 수 최적화"
   ]
  },
  {
   "cell_type": "code",
   "execution_count": null,
   "metadata": {},
   "outputs": [],
   "source": [
    "# 군집의 수를 키워가며 Sum of Squares Within (~ Internal Sum of Squares)을 계산한다.\n",
    "ssw = []\n",
    "cluster_ns = range(2,16)\n",
    "for n in cluster_ns:\n",
    "    my_cluster = KMeans(n)\n",
    "    my_cluster.fit(X)\n",
    "    ssw.append(my_cluster.inertia_)         # SSW를 모아둔다.\n",
    "\n",
    "plt.figure(figsize = (6,6))\n",
    "plt.plot(cluster_ns, ssw)\n",
    "plt.title('Elbow Method')\n",
    "plt.xlabel('Number of Clusters')\n",
    "plt.ylabel('Sum of Squares Within')\n",
    "plt.show()"
   ]
  },
  {
   "cell_type": "markdown",
   "metadata": {},
   "source": [
    "**결론**: 군집의 수가 5 이상일 때 SSW의 감소 속도가 둔화된다. => 군집의 적정 수 = 4."
   ]
  },
  {
   "cell_type": "code",
   "execution_count": null,
   "metadata": {},
   "outputs": [],
   "source": []
  }
 ],
 "metadata": {
  "kernelspec": {
   "display_name": "Python 3",
   "language": "python",
   "name": "python3"
  },
  "language_info": {
   "codemirror_mode": {
    "name": "ipython",
    "version": 3
   },
   "file_extension": ".py",
   "mimetype": "text/x-python",
   "name": "python",
   "nbconvert_exporter": "python",
   "pygments_lexer": "ipython3",
   "version": "3.8.8"
  }
 },
 "nbformat": 4,
 "nbformat_minor": 4
}

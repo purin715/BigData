{
  "nbformat": 4,
  "nbformat_minor": 0,
  "metadata": {
    "kernelspec": {
      "display_name": "Python 3",
      "language": "python",
      "name": "python3"
    },
    "language_info": {
      "codemirror_mode": {
        "name": "ipython",
        "version": 3
      },
      "file_extension": ".py",
      "mimetype": "text/x-python",
      "name": "python",
      "nbconvert_exporter": "python",
      "pygments_lexer": "ipython3",
      "version": "3.8.8"
    },
    "colab": {
      "name": "Covid_NetworkAnalysis_colab.ipynb",
      "provenance": [],
      "collapsed_sections": []
    }
  },
  "cells": [
    {
      "cell_type": "markdown",
      "metadata": {
        "id": "mMY7q-6kTpyr"
      },
      "source": [
        "## 코로나 :  집단감염 현황 네트워크 분석"
      ]
    },
    {
      "cell_type": "markdown",
      "metadata": {
        "id": "dH2TSYlVTpyz"
      },
      "source": [
        "- $활용 데이터:$ Case, PatientInfo <br>\n",
        "- $활용 라이브러리:$ pyvis <br>"
      ]
    },
    {
      "cell_type": "markdown",
      "metadata": {
        "id": "KvfzpipbTpy1"
      },
      "source": [
        "### 1. 준비."
      ]
    },
    {
      "cell_type": "code",
      "metadata": {
        "id": "xEFN3ArDTpy2"
      },
      "source": [
        "# 필요한 라이브러리를 설치한다.\n",
        "!pip install pyvis"
      ],
      "execution_count": null,
      "outputs": []
    },
    {
      "cell_type": "code",
      "metadata": {
        "id": "tPZoEPRlTpy4"
      },
      "source": [
        "# 필요한 라이브러리를 불러온다.\n",
        "import pandas as pd\n",
        "import numpy as np\n",
        "import matplotlib.pyplot as plt\n",
        "import seaborn as sns\n",
        "from pyvis.network import Network\n",
        "from IPython.core.display import display, HTML"
      ],
      "execution_count": null,
      "outputs": []
    },
    {
      "cell_type": "code",
      "metadata": {
        "id": "etxxocnKTpy5"
      },
      "source": [
        "from google.colab import drive\n",
        "# 구글 드라이브 마운트.\n",
        "drive.mount('/content/drive')  # 절차를 따라서 한다"
      ],
      "execution_count": null,
      "outputs": []
    },
    {
      "cell_type": "code",
      "metadata": {
        "id": "lJzmx4l3Tpy6"
      },
      "source": [
        "%cd /content/drive/MyDrive/GwangjuAI/"
      ],
      "execution_count": null,
      "outputs": []
    },
    {
      "cell_type": "code",
      "metadata": {
        "scrolled": true,
        "id": "N8qXNilcTpy7"
      },
      "source": [
        "# 데이터를 가져온다.\n",
        "case = pd.read_csv(r'./data/Case.csv')\n",
        "patinfo = pd.read_csv(r'./data/PatientInfo.csv')"
      ],
      "execution_count": null,
      "outputs": []
    },
    {
      "cell_type": "code",
      "metadata": {
        "id": "93CJ-5ZjTpy8"
      },
      "source": [
        "case.head(3)"
      ],
      "execution_count": null,
      "outputs": []
    },
    {
      "cell_type": "code",
      "metadata": {
        "id": "4EttCgiBTpy9"
      },
      "source": [
        "patinfo.head(3)"
      ],
      "execution_count": null,
      "outputs": []
    },
    {
      "cell_type": "code",
      "metadata": {
        "id": "0ZTvZ55oTpy-"
      },
      "source": [
        "# 결측치 확인.\n",
        "print(case.isnull().sum().sum())\n",
        "print(patinfo.isnull().sum().sum())"
      ],
      "execution_count": null,
      "outputs": []
    },
    {
      "cell_type": "markdown",
      "metadata": {
        "id": "3-5oQjtJTpy-"
      },
      "source": [
        "### 2. 데이터 전처리."
      ]
    },
    {
      "cell_type": "code",
      "metadata": {
        "id": "t7yfxp0nTpy_"
      },
      "source": [
        "# 집단감연 유형 정리.\n",
        "# 집단감염 유형이 아닌것들은 삭제한다.\n",
        "infect_case = list(set(case['infection_case']) - set(['etc','contact with patient','overseas inflow']))"
      ],
      "execution_count": null,
      "outputs": []
    },
    {
      "cell_type": "code",
      "metadata": {
        "id": "SqMCJuUSTpy_"
      },
      "source": [
        "# patinfo의 결측치를 문자열 'nan'으로 채워 넣어 둔다.\n",
        "patinfo.fillna('nan', inplace=True)"
      ],
      "execution_count": null,
      "outputs": []
    },
    {
      "cell_type": "code",
      "metadata": {
        "id": "JBLd1hDXTpzA"
      },
      "source": [
        "# 확진자 리스트와 감염경로 리스트.\n",
        "patient_id=list(patinfo['patient_id'].apply(lambda x: str(x)))   # 문자열로 변환.\n",
        "patient_case=list(patinfo['infection_case'])"
      ],
      "execution_count": null,
      "outputs": []
    },
    {
      "cell_type": "code",
      "metadata": {
        "id": "qgYxqdyVTpzA"
      },
      "source": [
        "# 누구로부터 감염됐는가?\n",
        "whom=list(patinfo['infected_by'])       # 문자열 리스트."
      ],
      "execution_count": null,
      "outputs": []
    },
    {
      "cell_type": "code",
      "metadata": {
        "id": "eOuu4YKjTpzB"
      },
      "source": [
        "# 전체 확진자들 중 whom이 결측치가 아니며 patient_id에 속하는 경우의 인덱스 리스트.\n",
        "whom_index=[i for i in range(len(patient_id)) if whom[i] !='nan' and whom[i] in patient_id ]"
      ],
      "execution_count": null,
      "outputs": []
    },
    {
      "cell_type": "code",
      "metadata": {
        "id": "_ZPFRZUgTpzB"
      },
      "source": [
        "# 집단감염장소 사이에는 edge로 연결되지 않는다.\n",
        "# 집단감염장소 -> 확진자 edge 생성을 위한 list of tuples.\n",
        "center_patient=[(patient_case[i],int(patient_id[i])) for i in range(len(patient_id)) if patient_case[i] in infect_case]\n",
        "# 집단감염의 경우 감염장소와 확진자 리스트를 별도로 구별해서 저장해 둔다.\n",
        "center_list=list(set([x[0] for x in center_patient]))    # 고유한 집단감염장소 리스트. 짧음!\n",
        "patient_list=[x[1] for x in center_patient]              # 집단감염을 통해서 감염된 환자 리스트."
      ],
      "execution_count": null,
      "outputs": []
    },
    {
      "cell_type": "code",
      "metadata": {
        "id": "RantzcweTpzB"
      },
      "source": [
        "# 확진자 -> 확진자 edge 생성을 위한 list of tuples.\n",
        "patient_list_str = [str(x) for x in patient_list]\n",
        "patient_patient=[(int(whom[i]),int(patient_id[i]))for i in whom_index if (whom[i] in patient_list_str) and (patient_id[i] in patient_list_str)]"
      ],
      "execution_count": null,
      "outputs": []
    },
    {
      "cell_type": "markdown",
      "metadata": {
        "id": "OKfClOrMTpzC"
      },
      "source": [
        "### 3. Network 시각화 생성."
      ]
    },
    {
      "cell_type": "code",
      "metadata": {
        "id": "8EQLN2RZTpzC"
      },
      "source": [
        "# Network 객체 생성.\n",
        "g = Network(height=600,width=900,directed=True,notebook=True,heading='Network Graph')\n",
        "g.set_options(\"\"\"\n",
        "var options = {\n",
        "  \"nodes\": {\n",
        "    \"font\": {\n",
        "      \"size\": 100,\n",
        "      \"strokeColor\": \"rgba(165,215,255,1)\"}}}\n",
        "\"\"\")"
      ],
      "execution_count": null,
      "outputs": []
    },
    {
      "cell_type": "code",
      "metadata": {
        "id": "gshXRhybTpzD"
      },
      "source": [
        "# 집단감염장소 별표로 추가.\n",
        "for x in center_list:\n",
        "    g.add_node(n_id=x,color='grey',label=x, shape='star')   "
      ],
      "execution_count": null,
      "outputs": []
    },
    {
      "cell_type": "code",
      "metadata": {
        "id": "CYQW8hjSTpzD"
      },
      "source": [
        "# 개별환자 점으로 추가.\n",
        "for x in patient_list:\n",
        "    g.add_node(n_id=x,label=[''],shape='dot' ) "
      ],
      "execution_count": null,
      "outputs": []
    },
    {
      "cell_type": "code",
      "metadata": {
        "id": "QVdvDmzyTpzD"
      },
      "source": [
        "# 집단감염장소와 개별환자 사이를 edge로 이음.\n",
        "for center,patient in center_patient:\n",
        "    g.add_edge(source=center,to=patient, color='green', width=1)    # width는 edge의 강도를 나타냄."
      ],
      "execution_count": null,
      "outputs": []
    },
    {
      "cell_type": "code",
      "metadata": {
        "id": "6f2Tg_IJTpzE"
      },
      "source": [
        "# 개별환자와 개별환자 사이를 edge로 이음.\n",
        "for patient1, patient2 in patient_patient:\n",
        "    g.add_edge(source=patient1,to=patient2, color='red', width=1)   # width는 edge의 강도를 나타냄."
      ],
      "execution_count": null,
      "outputs": []
    },
    {
      "cell_type": "code",
      "metadata": {
        "scrolled": false,
        "id": "F0K5xErNTpzE"
      },
      "source": [
        "# 출력.\n",
        "g.show('my_network.html')\n",
        "display(HTML('my_network.html'))"
      ],
      "execution_count": null,
      "outputs": []
    },
    {
      "cell_type": "code",
      "metadata": {
        "id": "EVDuP-luTpzF"
      },
      "source": [
        ""
      ],
      "execution_count": null,
      "outputs": []
    }
  ]
}
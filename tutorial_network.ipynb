{
 "cells": [
  {
   "cell_type": "markdown",
   "id": "d6a7eded",
   "metadata": {},
   "source": [
    "### 네트워크 (관계도) 튜토리얼."
   ]
  },
  {
   "cell_type": "code",
   "execution_count": null,
   "id": "d19b6ffe",
   "metadata": {},
   "outputs": [],
   "source": [
    "# 필요한 라이브러리를 설치한다.\n",
    "#!pip install pyvis"
   ]
  },
  {
   "cell_type": "code",
   "execution_count": null,
   "id": "d849f261",
   "metadata": {},
   "outputs": [],
   "source": [
    "from pyvis.network import Network\n",
    "from IPython.core.display import display, HTML"
   ]
  },
  {
   "cell_type": "markdown",
   "id": "b38ec6c5",
   "metadata": {},
   "source": [
    "#### 1. Undirected 관계도."
   ]
  },
  {
   "cell_type": "code",
   "execution_count": null,
   "id": "cb0b30e4",
   "metadata": {},
   "outputs": [],
   "source": [
    "# Network 객체 생성.\n",
    "g1 = Network(height=600,width=900,directed=False,notebook=False,heading='Tutorial 1')"
   ]
  },
  {
   "cell_type": "code",
   "execution_count": null,
   "id": "8a919345",
   "metadata": {},
   "outputs": [],
   "source": [
    "# 특성 설정.\n",
    "g1.set_options('''\n",
    "var options = {\n",
    "    \"nodes\": {\n",
    "    \"borderWidth\": 2,\n",
    "    \"borderWidthSelected\": 4,\n",
    "    \"color\": \"rgba(0,0,255,0.7)\"\n",
    "  },\n",
    "  \"edges\":{\n",
    "    \"width\":2,\n",
    "    \"color\":\"red\"\n",
    "  }\n",
    "}\n",
    "''')"
   ]
  },
  {
   "cell_type": "code",
   "execution_count": null,
   "id": "bc660384",
   "metadata": {},
   "outputs": [],
   "source": [
    "# Node와 Edge 추가.\n",
    "g1.add_node(n_id=1, label=\"A\")\n",
    "g1.add_node(n_id=2, label=\"B\")\n",
    "g1.add_node(n_id=3, label=\"C\")\n",
    "g1.add_edge(source=1,to=2)\n",
    "g1.add_edge(source=2,to=3)\n",
    "g1.add_edge(source=1,to=3)"
   ]
  },
  {
   "cell_type": "code",
   "execution_count": null,
   "id": "ea48d02d",
   "metadata": {},
   "outputs": [],
   "source": [
    "# 출력.\n",
    "g1.show('tutorial_1.html')\n",
    "#display(HTML('tutorial_1.html'))    # Colab 용."
   ]
  },
  {
   "cell_type": "markdown",
   "id": "995e45ea",
   "metadata": {},
   "source": [
    "#### 2. Directed 관계도."
   ]
  },
  {
   "cell_type": "code",
   "execution_count": null,
   "id": "2862575b",
   "metadata": {},
   "outputs": [],
   "source": [
    "# Network 객체 생성.\n",
    "g2 = Network(height=600,width=900,directed=True,notebook=False,heading='Tutorial 2')"
   ]
  },
  {
   "cell_type": "code",
   "execution_count": null,
   "id": "07a9bc97",
   "metadata": {},
   "outputs": [],
   "source": [
    "# Node와 Edge 추가.\n",
    "g2.add_node(n_id=1, label='a', shape='star', color='red', size=10)\n",
    "g2.add_node(n_id=2, label='b', shape='dot', color='rgba(0,255,0,0.3)', size=20)\n",
    "g2.add_node(n_id=3, label='c', shape='dot', color='rgba(0,255,0,0.3)', size=20)\n",
    "g2.add_node(n_id=4, label='d', shape='dot', color='rgba(0,255,0,0.3)', size=20)\n",
    "g2.add_edge(source=1,to=2, width=0.5, color='orange')\n",
    "g2.add_edge(source=1,to=3, width=0.5, color='orange')\n",
    "g2.add_edge(source=1,to=4, width=0.5, color='orange')"
   ]
  },
  {
   "cell_type": "code",
   "execution_count": null,
   "id": "bb54d325",
   "metadata": {},
   "outputs": [],
   "source": [
    "# 출력.\n",
    "g2.show('tutorial_2.html')\n",
    "#display(HTML('tutorial_2.html'))    # Colab 용."
   ]
  },
  {
   "cell_type": "code",
   "execution_count": null,
   "id": "d1da575b",
   "metadata": {},
   "outputs": [],
   "source": []
  }
 ],
 "metadata": {
  "kernelspec": {
   "display_name": "Python 3",
   "language": "python",
   "name": "python3"
  },
  "language_info": {
   "codemirror_mode": {
    "name": "ipython",
    "version": 3
   },
   "file_extension": ".py",
   "mimetype": "text/x-python",
   "name": "python",
   "nbconvert_exporter": "python",
   "pygments_lexer": "ipython3",
   "version": "3.8.8"
  }
 },
 "nbformat": 4,
 "nbformat_minor": 5
}

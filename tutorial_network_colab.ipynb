{
  "nbformat": 4,
  "nbformat_minor": 5,
  "metadata": {
    "kernelspec": {
      "display_name": "Python 3",
      "language": "python",
      "name": "python3"
    },
    "language_info": {
      "codemirror_mode": {
        "name": "ipython",
        "version": 3
      },
      "file_extension": ".py",
      "mimetype": "text/x-python",
      "name": "python",
      "nbconvert_exporter": "python",
      "pygments_lexer": "ipython3",
      "version": "3.8.8"
    },
    "colab": {
      "name": "tutorial_network_colab.ipynb",
      "provenance": [],
      "collapsed_sections": []
    }
  },
  "cells": [
    {
      "cell_type": "markdown",
      "metadata": {
        "id": "d6a7eded"
      },
      "source": [
        "### 네트워크 (관계도) 튜토리얼."
      ],
      "id": "d6a7eded"
    },
    {
      "cell_type": "code",
      "metadata": {
        "id": "d19b6ffe"
      },
      "source": [
        "# 필요한 라이브러리를 설치한다.\n",
        "!pip install pyvis"
      ],
      "id": "d19b6ffe",
      "execution_count": null,
      "outputs": []
    },
    {
      "cell_type": "code",
      "metadata": {
        "id": "d849f261"
      },
      "source": [
        "from pyvis.network import Network\n",
        "from IPython.core.display import display, HTML"
      ],
      "id": "d849f261",
      "execution_count": null,
      "outputs": []
    },
    {
      "cell_type": "markdown",
      "metadata": {
        "id": "b38ec6c5"
      },
      "source": [
        "#### 1. Undirected 관계도."
      ],
      "id": "b38ec6c5"
    },
    {
      "cell_type": "code",
      "metadata": {
        "id": "cb0b30e4"
      },
      "source": [
        "# Network 객체 생성.\n",
        "g1 = Network(height=900,width=600,directed=False,notebook=True,heading='Tutorial 1')"
      ],
      "id": "cb0b30e4",
      "execution_count": null,
      "outputs": []
    },
    {
      "cell_type": "code",
      "metadata": {
        "id": "8a919345"
      },
      "source": [
        "# 특성 설정.\n",
        "g1.set_options('''\n",
        "var options = {\n",
        "    \"nodes\": {\n",
        "    \"borderWidth\": 2,\n",
        "    \"borderWidthSelected\": 4,\n",
        "    \"color\": \"rgba(0,0,255,0.7)\"\n",
        "  },\n",
        "  \"edges\":{\n",
        "    \"width\":2,\n",
        "    \"color\":\"red\"\n",
        "  }\n",
        "}\n",
        "''')"
      ],
      "id": "8a919345",
      "execution_count": null,
      "outputs": []
    },
    {
      "cell_type": "code",
      "metadata": {
        "id": "bc660384"
      },
      "source": [
        "# Node와 Edge 추가.\n",
        "g1.add_node(n_id=1, label=\"A\")\n",
        "g1.add_node(n_id=2, label=\"B\")\n",
        "g1.add_node(n_id=3, label=\"C\")\n",
        "g1.add_edge(source=1,to=2)\n",
        "g1.add_edge(source=2,to=3)\n",
        "g1.add_edge(source=1,to=3)"
      ],
      "id": "bc660384",
      "execution_count": null,
      "outputs": []
    },
    {
      "cell_type": "code",
      "metadata": {
        "id": "ea48d02d"
      },
      "source": [
        "# 출력.\n",
        "g1.show('tutorial_1.html')\n",
        "display(HTML('tutorial_1.html'))    # Colab 용."
      ],
      "id": "ea48d02d",
      "execution_count": null,
      "outputs": []
    },
    {
      "cell_type": "markdown",
      "metadata": {
        "id": "995e45ea"
      },
      "source": [
        "#### 2. Directed 관계도."
      ],
      "id": "995e45ea"
    },
    {
      "cell_type": "code",
      "metadata": {
        "id": "2862575b"
      },
      "source": [
        "# Network 객체 생성.\n",
        "g2 = Network(height=900,width=600,directed=True,notebook=True,heading='Tutorial 2')"
      ],
      "id": "2862575b",
      "execution_count": null,
      "outputs": []
    },
    {
      "cell_type": "code",
      "metadata": {
        "id": "07a9bc97"
      },
      "source": [
        "# Node와 Edge 추가.\n",
        "g2.add_node(n_id=1, label='a', shape='star', color='red', size=10)\n",
        "g2.add_node(n_id=2, label='b', shape='dot', color='rgba(0,255,0,0.3)', size=20)\n",
        "g2.add_node(n_id=3, label='c', shape='dot', color='rgba(0,255,0,0.3)', size=20)\n",
        "g2.add_node(n_id=4, label='d', shape='dot', color='rgba(0,255,0,0.3)', size=20)\n",
        "g2.add_edge(source=1,to=2, width=0.5, color='orange')\n",
        "g2.add_edge(source=1,to=3, width=0.5, color='orange')\n",
        "g2.add_edge(source=1,to=4, width=0.5, color='orange')"
      ],
      "id": "07a9bc97",
      "execution_count": null,
      "outputs": []
    },
    {
      "cell_type": "code",
      "metadata": {
        "id": "bb54d325"
      },
      "source": [
        "# 출력.\n",
        "g2.show('tutorial_2.html')\n",
        "display(HTML('tutorial_2.html'))    # Colab 용."
      ],
      "id": "bb54d325",
      "execution_count": null,
      "outputs": []
    },
    {
      "cell_type": "code",
      "metadata": {
        "id": "d1da575b"
      },
      "source": [
        ""
      ],
      "id": "d1da575b",
      "execution_count": null,
      "outputs": []
    }
  ]
}